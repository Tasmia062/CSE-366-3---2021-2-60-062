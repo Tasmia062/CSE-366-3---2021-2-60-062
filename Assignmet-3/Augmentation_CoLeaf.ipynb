{
  "cells": [
    {
      "cell_type": "markdown",
      "source": [
        "#**Image Augmentation part**"
      ],
      "metadata": {
        "id": "qNIu1b5c7wJt"
      }
    },
    {
      "cell_type": "markdown",
      "metadata": {
        "id": "Q6JD6CcDLzaB"
      },
      "source": [
        "#**Step 1:** Mount Google Drive"
      ]
    },
    {
      "cell_type": "code",
      "execution_count": null,
      "metadata": {
        "colab": {
          "base_uri": "https://localhost:8080/"
        },
        "id": "keguvNk8MSAL",
        "outputId": "1392bac8-3e09-456e-8014-128ad86959a4"
      },
      "outputs": [
        {
          "output_type": "stream",
          "name": "stdout",
          "text": [
            "Mounted at /content/drive\n"
          ]
        }
      ],
      "source": [
        "from google.colab import drive\n",
        "drive.mount('/content/drive')"
      ]
    },
    {
      "cell_type": "markdown",
      "metadata": {
        "id": "rfM2XKxIMFMk"
      },
      "source": [
        "#**Step 2:** Import necessary libraries"
      ]
    },
    {
      "cell_type": "code",
      "execution_count": null,
      "metadata": {
        "id": "roQ6n453MWXA"
      },
      "outputs": [],
      "source": [
        "import os\n",
        "from keras.preprocessing.image import ImageDataGenerator\n",
        "from keras.preprocessing import image"
      ]
    },
    {
      "cell_type": "markdown",
      "metadata": {
        "id": "9C-zV3EJMXcW"
      },
      "source": [
        "#**Step 3:** Define the paths"
      ]
    },
    {
      "cell_type": "code",
      "execution_count": null,
      "metadata": {
        "id": "9iTG6F7-McYH"
      },
      "outputs": [],
      "source": [
        "input_folder = '/content/drive/MyDrive/CoLeaf DATASET'\n",
        "output_folder = '/content/drive/MyDrive/CoLeaf_Augmented_Dataset'"
      ]
    },
    {
      "cell_type": "markdown",
      "metadata": {
        "id": "aRe5K9tgMfGL"
      },
      "source": [
        "#**Step 4**: Create the ImageDataGenerator"
      ]
    },
    {
      "cell_type": "code",
      "execution_count": null,
      "metadata": {
        "id": "3GLcCURbMj4i"
      },
      "outputs": [],
      "source": [
        "datagen = ImageDataGenerator(\n",
        "    rotation_range=40,\n",
        "    width_shift_range=0.2,\n",
        "    height_shift_range=0.2,\n",
        "    shear_range=0.2,\n",
        "    zoom_range=0.2,\n",
        "    horizontal_flip=True,\n",
        "    fill_mode='nearest'\n",
        ")"
      ]
    },
    {
      "cell_type": "markdown",
      "metadata": {
        "id": "5h2lkiGsMm_H"
      },
      "source": [
        "#**Step 5:** Augment the images and save them to the output folder"
      ]
    },
    {
      "cell_type": "code",
      "execution_count": null,
      "metadata": {
        "id": "HYQwn3c2MrBV"
      },
      "outputs": [],
      "source": [
        "def augment_images(input_subfolder, output_subfolder):\n",
        "    input_path = os.path.join(input_folder, input_subfolder)\n",
        "    output_path = os.path.join(output_folder, output_subfolder)\n",
        "\n",
        "    os.makedirs(output_path, exist_ok=True)\n",
        "\n",
        "    for filename in os.listdir(input_path):\n",
        "        img_path = os.path.join(input_path, filename)\n",
        "        img = image.load_img(img_path, target_size=(512, 512))  # Adjust target_size as needed\n",
        "        x = image.img_to_array(img)\n",
        "        x = x.reshape((1,) + x.shape)\n",
        "\n",
        "        i = 0\n",
        "        for batch in datagen.flow(x, batch_size=1, save_to_dir=output_path, save_prefix='aug', save_format='jpg'):\n",
        "            i += 1\n",
        "            if i >= 5:  # Augment 5 images per original image\n",
        "                break\n",
        "\n",
        "\n",
        "input_subfolders = os.listdir(input_folder)\n",
        "\n",
        "for subfolder in input_subfolders:\n",
        "    augment_images(subfolder, f\"{subfolder}_augmented\")"
      ]
    }
  ],
  "metadata": {
    "accelerator": "GPU",
    "colab": {
      "provenance": [],
      "gpuType": "T4"
    },
    "kernelspec": {
      "display_name": "Python 3",
      "name": "python3"
    },
    "language_info": {
      "name": "python"
    }
  },
  "nbformat": 4,
  "nbformat_minor": 0
}